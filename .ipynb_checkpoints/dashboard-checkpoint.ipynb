{
 "cells": [
  {
   "cell_type": "code",
   "execution_count": 1,
   "metadata": {},
   "outputs": [],
   "source": [
    "import numpy as np\n",
    "import pandas as pd\n",
    "\n",
    "import matplotlib.pyplot as plt\n",
    "%config InlineBackend.figure_format = 'retina'\n",
    "\n",
    "import seaborn as sns\n",
    "\n",
    "from foods.dashboard import read_database, find_item, make_data, meal_plots, nuts_plots\n",
    "\n",
    "%load_ext autoreload\n",
    "%autoreload 2"
   ]
  },
  {
   "cell_type": "code",
   "execution_count": 12,
   "metadata": {},
   "outputs": [
    {
     "data": {
      "text/html": [
       "<div>\n",
       "<style scoped>\n",
       "    .dataframe tbody tr th:only-of-type {\n",
       "        vertical-align: middle;\n",
       "    }\n",
       "\n",
       "    .dataframe tbody tr th {\n",
       "        vertical-align: top;\n",
       "    }\n",
       "\n",
       "    .dataframe thead th {\n",
       "        text-align: right;\n",
       "    }\n",
       "</style>\n",
       "<table border=\"1\" class=\"dataframe\">\n",
       "  <thead>\n",
       "    <tr style=\"text-align: right;\">\n",
       "      <th></th>\n",
       "      <th>ingredient</th>\n",
       "      <th>category</th>\n",
       "      <th>fat</th>\n",
       "      <th>carbs</th>\n",
       "      <th>sugar</th>\n",
       "      <th>fiber</th>\n",
       "      <th>protein</th>\n",
       "    </tr>\n",
       "  </thead>\n",
       "  <tbody>\n",
       "    <tr>\n",
       "      <th>790</th>\n",
       "      <td>scrambled eggs, prepared</td>\n",
       "      <td>prepared dishes/other savoury dishes</td>\n",
       "      <td>11.2</td>\n",
       "      <td>1.3</td>\n",
       "      <td>1.3</td>\n",
       "      <td>0.0</td>\n",
       "      <td>10.8</td>\n",
       "    </tr>\n",
       "    <tr>\n",
       "      <th>791</th>\n",
       "      <td>scrambled eggs with cheese, prepared</td>\n",
       "      <td>prepared dishes/other savoury dishes</td>\n",
       "      <td>11.9</td>\n",
       "      <td>1.3</td>\n",
       "      <td>1.3</td>\n",
       "      <td>0.0</td>\n",
       "      <td>11.5</td>\n",
       "    </tr>\n",
       "    <tr>\n",
       "      <th>792</th>\n",
       "      <td>scrambled eggs with ham, prepared</td>\n",
       "      <td>prepared dishes/other savoury dishes</td>\n",
       "      <td>10.0</td>\n",
       "      <td>1.3</td>\n",
       "      <td>1.3</td>\n",
       "      <td>0.0</td>\n",
       "      <td>12.6</td>\n",
       "    </tr>\n",
       "    <tr>\n",
       "      <th>793</th>\n",
       "      <td>scrambled eggs with mushrooms, prepared</td>\n",
       "      <td>prepared dishes/other savoury dishes</td>\n",
       "      <td>9.3</td>\n",
       "      <td>1.5</td>\n",
       "      <td>1.4</td>\n",
       "      <td>0.4</td>\n",
       "      <td>9.6</td>\n",
       "    </tr>\n",
       "  </tbody>\n",
       "</table>\n",
       "</div>"
      ],
      "text/plain": [
       "                                  ingredient  \\\n",
       "790                 scrambled eggs, prepared   \n",
       "791     scrambled eggs with cheese, prepared   \n",
       "792        scrambled eggs with ham, prepared   \n",
       "793  scrambled eggs with mushrooms, prepared   \n",
       "\n",
       "                                 category   fat  carbs  sugar  fiber  protein  \n",
       "790  prepared dishes/other savoury dishes  11.2    1.3    1.3    0.0     10.8  \n",
       "791  prepared dishes/other savoury dishes  11.9    1.3    1.3    0.0     11.5  \n",
       "792  prepared dishes/other savoury dishes  10.0    1.3    1.3    0.0     12.6  \n",
       "793  prepared dishes/other savoury dishes   9.3    1.5    1.4    0.4      9.6  "
      ]
     },
     "execution_count": 12,
     "metadata": {},
     "output_type": "execute_result"
    }
   ],
   "source": [
    "new_foods = {\n",
    "    'almond butter': ['pip & nut almont butter', 'added', 54, 7.5, 4.6, np.nan , 27],\n",
    "    'macadamias': ['macadamia nuts', 'added', 75.3, 6.2, 3.8, 6.3, 9.0],\n",
    "    'chicory coffee': ['chicory coffee', 'added', 0.5, 73.2, 28.2, 15.3, 3.5],\n",
    "    'spirulina': ['spirulina', 'added', 8, 24, 3.1, 3.6, 57],\n",
    "    'medium cheddar': ['medium cheddar', 'added', 34.9, 0.1, 0.1, 0, 25.4],\n",
    "    'kallo chicken stock': ['kallo chicken stock cube', 'added', 2.5, 3, 0.5, np.nan, 0.5],\n",
    "    'heck chicken sausages': ['heck chicken sausages', 'added', 3.9, 1.6, 0.6, np.nan, 21.5],\n",
    "    'tesco bacon': ['tesco bacon', 'added', 15.9, 1, 0.2, 0.7, 19], \n",
    "    'marigold veg bouillon': ['marigold veg bouillon', 'added', 8.5, 30.1, 10.5, np.nan, 10.1],\n",
    "    'tesco wild salmon': ['tesco wild salmon', 'added', 2.7, 1.1, 0, 0, 20]\n",
    "}\n",
    "\n",
    "\n",
    "foods = read_database()\n",
    "cols = foods.columns\n",
    "new_foods_df = pd.DataFrame(new_foods.values(), columns=cols)\n",
    "foods = foods.append(new_foods_df, ignore_index=True)\n",
    "\n",
    "find_item('eggs', foods)"
   ]
  },
  {
   "cell_type": "markdown",
   "metadata": {},
   "source": [
    "**Goal**: Be below 13g of carbs so I got room for carbs from broth/bouillon and spirulina."
   ]
  },
  {
   "cell_type": "code",
   "execution_count": 15,
   "metadata": {},
   "outputs": [
    {
     "ename": "AttributeError",
     "evalue": "module 'foods.meals' has no attribute 'july19_2020'",
     "output_type": "error",
     "traceback": [
      "\u001b[0;31m---------------------------------------------------------------------------\u001b[0m",
      "\u001b[0;31mAttributeError\u001b[0m                            Traceback (most recent call last)",
      "\u001b[0;32m<ipython-input-15-29600dec3e81>\u001b[0m in \u001b[0;36m<module>\u001b[0;34m\u001b[0m\n\u001b[1;32m      1\u001b[0m \u001b[0;32mimport\u001b[0m \u001b[0mfoods\u001b[0m\u001b[0;34m.\u001b[0m\u001b[0mmeals\u001b[0m \u001b[0;32mas\u001b[0m \u001b[0mmeals\u001b[0m\u001b[0;34m\u001b[0m\u001b[0;34m\u001b[0m\u001b[0m\n\u001b[1;32m      2\u001b[0m \u001b[0;34m\u001b[0m\u001b[0m\n\u001b[0;32m----> 3\u001b[0;31m \u001b[0mmeal_data\u001b[0m \u001b[0;34m=\u001b[0m \u001b[0mmake_data\u001b[0m\u001b[0;34m(\u001b[0m\u001b[0mmeals\u001b[0m\u001b[0;34m.\u001b[0m\u001b[0mjuly19_2020\u001b[0m\u001b[0;34m,\u001b[0m \u001b[0mfoods\u001b[0m\u001b[0;34m)\u001b[0m\u001b[0;34m\u001b[0m\u001b[0;34m\u001b[0m\u001b[0m\n\u001b[0m\u001b[1;32m      4\u001b[0m \u001b[0mmeal_plots\u001b[0m\u001b[0;34m(\u001b[0m\u001b[0mmeal_data\u001b[0m\u001b[0;34m)\u001b[0m\u001b[0;34m\u001b[0m\u001b[0;34m\u001b[0m\u001b[0m\n\u001b[1;32m      5\u001b[0m \u001b[0mnuts_plots\u001b[0m\u001b[0;34m(\u001b[0m\u001b[0mmeal_data\u001b[0m\u001b[0;34m)\u001b[0m\u001b[0;34m\u001b[0m\u001b[0;34m\u001b[0m\u001b[0m\n",
      "\u001b[0;31mAttributeError\u001b[0m: module 'foods.meals' has no attribute 'july19_2020'"
     ]
    }
   ],
   "source": [
    "import foods.meals as meals\n",
    "\n",
    "meal_data = make_data(meals.jul19_2020, foods)\n",
    "meal_plots(meal_data)\n",
    "nuts_plots(meal_data)"
   ]
  },
  {
   "cell_type": "code",
   "execution_count": null,
   "metadata": {},
   "outputs": [],
   "source": []
  }
 ],
 "metadata": {
  "kernelspec": {
   "display_name": "foods",
   "language": "python",
   "name": "foods"
  },
  "language_info": {
   "codemirror_mode": {
    "name": "ipython",
    "version": 3
   },
   "file_extension": ".py",
   "mimetype": "text/x-python",
   "name": "python",
   "nbconvert_exporter": "python",
   "pygments_lexer": "ipython3",
   "version": "3.7.7"
  }
 },
 "nbformat": 4,
 "nbformat_minor": 4
}
